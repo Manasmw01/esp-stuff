{
  "nbformat": 4,
  "nbformat_minor": 0,
  "metadata": {
    "colab": {
      "provenance": []
    },
    "kernelspec": {
      "name": "python3",
      "display_name": "Python 3"
    },
    "language_info": {
      "name": "python"
    }
  },
  "cells": [
    {
      "cell_type": "code",
      "execution_count": null,
      "metadata": {
        "id": "ozB8JFvF8e3h"
      },
      "outputs": [],
      "source": []
    },
    {
      "cell_type": "code",
      "source": [
        "import numpy as np\n",
        "\n",
        "# Set the size of the matrix\n",
        "size = 46\n",
        "\n",
        "# Create a matrix where each row contains values from 1 to 46\n",
        "matrix = np.random.rand(size, size)\n",
        "# Flatten the matrix in row-major order and save to a file\n",
        "matrix_flattened = matrix.flatten(order='C')  # 'C' ensures row-major flattening\n",
        "\n",
        "# Save to a file\n",
        "with open('matrix_row_major.txt', 'w') as f:\n",
        "    # Convert the flattened matrix to a single line of comma-separated values\n",
        "    f.write(','.join(map(str, matrix_flattened)))\n",
        "\n",
        "print(\"Matrix saved to 'matrix_row_major.txt'\")\n",
        "\n",
        "\n",
        "# Calculate the inverse\n",
        "matrix_inv = gaussian_inverse(matrix)\n",
        "\n",
        "print(\"\\nInverse of the Matrix ({}x{}):\\n\".format(size, size), matrix_inv)\n"
      ],
      "metadata": {
        "colab": {
          "base_uri": "https://localhost:8080/"
        },
        "id": "U6B1VMWn8iK2",
        "outputId": "1790ee60-1396-429b-83b1-18ac5182a6e0"
      },
      "execution_count": 8,
      "outputs": [
        {
          "output_type": "stream",
          "name": "stdout",
          "text": [
            "Matrix saved to 'matrix_row_major.txt'\n",
            "\n",
            "Inverse of the Matrix (46x46):\n",
            " [[-0.09436728 -0.11508594 -0.10685313 ... -0.74129213 -0.20264614\n",
            "  -0.8379484 ]\n",
            " [ 0.44248665  0.25411827 -0.21032125 ... -0.0317054   0.18540732\n",
            "   0.90210022]\n",
            " [-0.3912875   0.11096494 -0.04737705 ...  0.0807569  -0.06642463\n",
            "   0.03430394]\n",
            " ...\n",
            " [-0.94914106  0.06838738 -0.03205607 ...  0.09847232 -0.47377265\n",
            "  -1.07346238]\n",
            " [-0.55174284  0.18245472  0.69717253 ...  0.2172035  -0.28553876\n",
            "  -0.20982574]\n",
            " [-0.24952655  0.28243401  0.70360961 ... -0.4567141   0.56143426\n",
            "   0.02837161]]\n"
          ]
        }
      ]
    },
    {
      "cell_type": "code",
      "source": [],
      "metadata": {
        "id": "2z7f-OiL-mpv"
      },
      "execution_count": 7,
      "outputs": []
    }
  ]
}